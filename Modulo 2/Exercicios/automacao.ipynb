{
 "cells": [
  {
   "cell_type": "code",
   "execution_count": 35,
   "id": "119d1af1",
   "metadata": {},
   "outputs": [
    {
     "name": "stdout",
     "output_type": "stream",
     "text": [
      "Point(x=624, y=283)\n"
     ]
    }
   ],
   "source": [
    "import pyautogui\n",
    "import time\n",
    "\n",
    "time.sleep(5)\n",
    "posicao = pyautogui.position()\n",
    "print(posicao)"
   ]
  },
  {
   "cell_type": "code",
   "execution_count": 36,
   "id": "59a3eedb",
   "metadata": {},
   "outputs": [],
   "source": [
    "import pyautogui\n",
    "import time\n",
    "\n",
    "pyautogui.hotkey('winleft', 'r')\n",
    "time.sleep(1)\n",
    "pyautogui.write('chrome')\n",
    "pyautogui.press('enter')\n",
    "time.sleep(5)\n",
    "pyautogui.write('www.uol.com.br', interval=0.1)\n",
    "pyautogui.press('enter')\n",
    "time.sleep(3)\n",
    "pyautogui.click(624, 283)\n",
    "#pyautogui.press('tab' , presses=26 , interval=0.2)\n",
    "#pyautogui.press('enter')\n"
   ]
  },
  {
   "cell_type": "markdown",
   "id": "564b735b",
   "metadata": {},
   "source": [
    "**Exercício**\n",
    "\n",
    "- Com PyAutoGUI:\n",
    "    - Crie um arquivo txt\n",
    "    - Insira um bloco de texto ex. uma receita, poema, música\n",
    "    - Salve este arquivo com o nome: \"exercício pyautogui - SEUNOME\"\n",
    "    - Na pasta do projeto"
   ]
  },
  {
   "cell_type": "markdown",
   "id": "bb678f39",
   "metadata": {},
   "source": [
    "pyautogui.write"
   ]
  },
  {
   "cell_type": "code",
   "execution_count": null,
   "id": "504fa16c",
   "metadata": {},
   "outputs": [],
   "source": [
    "import pyautogui\n",
    "import time\n",
    "\n",
    "texto = '''On the summit \n",
    "On the top of that summit\n",
    "I planted a rosebush,\n",
    "The wind on the summit blows,\n",
    "The rose on the summit smells,\n",
    "When the light rain falls,\n",
    "Splashes on the summit, fall,\n",
    "Ants on the summit, enter,\n",
    "Bees on the summit, exit.\n",
    "When the heavy rain falls,\n",
    "The water on the summit descends,\n",
    "The mud on the summit flows,\n",
    "The grass on the summit grows.\n",
    "When the rain ceases,\n",
    "On the summit, joy returns,\n",
    "Because the sun that on the summit burned,\n",
    "Shines again. '''\n",
    "\n",
    "pyautogui.hotkey('winleft' , 'r')\n",
    "pyautogui.write('notepad')\n",
    "pyautogui.press('enter')\n",
    "time.sleep(1.5)\n",
    "pyautogui.hotkey('alt', 'space' , 'x')\n",
    "time.sleep(3)\n",
    "pyautogui.click(500, 500)\n",
    "textoConvertido = texto.split('\\n')\n",
    "for i in textoConvertido:\n",
    "    pyautogui.write(i, interval=0.05)\n",
    "    time.sleep(1)\n",
    "    pyautogui.press('enter')\n",
    "time.sleep(3)\n",
    "pyautogui.hotkey('ctrl', 'shift' , 's')\n",
    "time.sleep(2)\n",
    "pyautogui.write('exercicio pyautogui - SEUNOME')\n",
    "time.sleep(1)\n",
    "pyautogui.press('tab',presses=7)\n",
    "time.sleep(1)\n",
    "pyautogui.press('enter')\n",
    "time.sleep(1)\n",
    "pyautogui.write(r'C:\\Users\\prog5\\Desktop\\Guilherme')\n",
    "time.sleep(2)\n",
    "pyautogui.press('enter')\n",
    "time.sleep(2)\n",
    "pyautogui.press('tab', presses=10)\n",
    "time.sleep(1)\n",
    "pyautogui.press('enter')\n"
   ]
  }
 ],
 "metadata": {
  "kernelspec": {
   "display_name": "Python 3",
   "language": "python",
   "name": "python3"
  },
  "language_info": {
   "codemirror_mode": {
    "name": "ipython",
    "version": 3
   },
   "file_extension": ".py",
   "mimetype": "text/x-python",
   "name": "python",
   "nbconvert_exporter": "python",
   "pygments_lexer": "ipython3",
   "version": "3.13.2"
  }
 },
 "nbformat": 4,
 "nbformat_minor": 5
}
