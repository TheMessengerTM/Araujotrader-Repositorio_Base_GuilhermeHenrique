{
 "cells": [
  {
   "cell_type": "markdown",
   "id": "df4cfcaf",
   "metadata": {},
   "source": [
    "# Aula 01 - Intermediário"
   ]
  },
  {
   "cell_type": "markdown",
   "id": "9dabe58f",
   "metadata": {},
   "source": [
    "**Criação de arquivo**"
   ]
  },
  {
   "cell_type": "code",
   "execution_count": null,
   "id": "ae6af673",
   "metadata": {},
   "outputs": [],
   "source": [
    "# Criar arquivo\n",
    "\n",
    "open('cidades.txt','x')"
   ]
  },
  {
   "cell_type": "code",
   "execution_count": 22,
   "id": "8537c0d4",
   "metadata": {},
   "outputs": [
    {
     "data": {
      "text/plain": [
       "25"
      ]
     },
     "execution_count": 22,
     "metadata": {},
     "output_type": "execute_result"
    }
   ],
   "source": [
    "escrever = open('cidades.txt','w')\n",
    "escrever.write('SP; Barueri; R$ 5.800,00\\n')"
   ]
  },
  {
   "cell_type": "code",
   "execution_count": 24,
   "id": "697db801",
   "metadata": {},
   "outputs": [
    {
     "data": {
      "text/plain": [
       "24"
      ]
     },
     "execution_count": 24,
     "metadata": {},
     "output_type": "execute_result"
    }
   ],
   "source": [
    "escrever = open('cidades.txt','a')\n",
    "escrever.write('BA; Salvador; R$ 2.800,00\\n')\n",
    "escrever.write('MG; Caratinga; R$ 75.800,00\\n')\n",
    "escrever.write('RJ; Penha; R$ 91.800,00\\n')\n"
   ]
  },
  {
   "cell_type": "code",
   "execution_count": 32,
   "id": "d802889a",
   "metadata": {},
   "outputs": [],
   "source": [
    "addCidades = [ \n",
    "\n",
    "    'SP; CAMPINAS; R$ 4.740.00\\n',\n",
    "    'SP; SANTANA DE PARNAÍBA; R$ 100.000,00\\n',\n",
    "    'PR; TERESINHA; R$ 470,00\\n',\n",
    "    'PI; MARINGA; R$ 47.596,00\\n',\n",
    "    'BA; XIQUE XIQUE; 96.000,00\\n',\n",
    "    'DF; BRASÍLIA; R$ 780,00\\n',\n",
    "    'SP; CAMPINAS; R$ 4.740.00\\n',\n",
    "    'SP; SANTANA DE PARNAÍBA; R$ 100.000,00\\n',\n",
    "    'PR; TERESINHA; R$ 470,00\\n',\n",
    "    'PI; MARINGA; R$ 47.596,00\\n',\n",
    "    'BA; XIQUE XIQUE; 96.000,00\\n',\n",
    "    'DF; BRASÍLIA; R$ 780,00\\n','SP; CAMPINAS; R$ 4.740.00\\n',\n",
    "    'SP; SANTANA DE PARNAÍBA; R$ 100.000,00\\n',\n",
    "    'PR; TERESINHA; R$ 470,00\\n',\n",
    "    'PI; MARINGA; R$ 47.596,00\\n',\n",
    "    'BA; XIQUE XIQUE; 96.000,00\\n',\n",
    "    'DF; BRASÍLIA; R$ 780,00\\n',\n",
    "]\n",
    "\n",
    "addLista = open('cidades.txt', 'a')\n",
    "addLista.writelines(addCidades)"
   ]
  },
  {
   "cell_type": "code",
   "execution_count": 34,
   "id": "40d80812",
   "metadata": {},
   "outputs": [
    {
     "name": "stdout",
     "output_type": "stream",
     "text": [
      "SP; Barueri; R$ 5.800,00\n",
      "BA; Salvador; R$ 2.800,00\n",
      "MG; Caratinga; R$ 75.800,00\n",
      "RJ; Penha; R$ 91.800,00\n",
      "SP; CAMPINAS; R$ 4.740.00\n",
      "SP; SANTANA DE PARNAÍBA; R$ 100.000,00\n",
      "PR; TERESINHA; R$ 470,00\n",
      "PI; MARINGA; R$ 47.596,00\n",
      "BA; XIQUE XIQUE; 96.000,00\n",
      "DF; BRASÍLIA; R$ 780,00\n",
      "SP; CAMPINAS; R$ 4.740.00\n",
      "SP; SANTANA DE PARNAÍBA; R$ 100.000,00\n",
      "PR; TERESINHA; R$ 470,00\n",
      "PI; MARINGA; R$ 47.596,00\n",
      "BA; XIQUE XIQUE; 96.000,00\n",
      "DF; BRASÍLIA; R$ 780,00\n",
      "SP; CAMPINAS; R$ 4.740.00\n",
      "SP; SANTANA DE PARNAÍBA; R$ 100.000,00\n",
      "PR; TERESINHA; R$ 470,00\n",
      "PI; MARINGA; R$ 47.596,00\n",
      "BA; XIQUE XIQUE; 96.000,00\n",
      "DF; BRASÍLIA; R$ 780,00\n",
      "SP; CAMPINAS; R$ 4.740.00\n",
      "SP; SANTANA DE PARNAÍBA; R$ 100.000,00\n",
      "PR; TERESINHA; R$ 470,00\n",
      "PI; MARINGA; R$ 47.596,00\n",
      "BA; XIQUE XIQUE; 96.000,00\n",
      "DF; BRASÍLIA; R$ 780,00\n",
      "SP; CAMPINAS; R$ 4.740.00\n",
      "SP; SANTANA DE PARNAÍBA; R$ 100.000,00\n",
      "PR; TERESINHA; R$ 470,00\n",
      "PI; MARINGA; R$ 47.596,00\n",
      "BA; XIQUE XIQUE; 96.000,00\n",
      "DF; BRASÍLIA; R$ 780,00\n",
      "SP; CAMPINAS; R$ 4.740.00\n",
      "SP; SANTANA DE PARNAÍBA; R$ 100.000,00\n",
      "PR; TERESINHA; R$ 470,00\n",
      "PI; MARINGA; R$ 47.596,00\n",
      "BA; XIQUE XIQUE; 96.000,00\n",
      "DF; BRASÍLIA; R$ 780,00\n",
      "\n"
     ]
    }
   ],
   "source": [
    "ler = open ('cidades.txt','r')\n",
    "visualizar = ler.read()\n",
    "ler.close()\n",
    "\n",
    "print(visualizar)"
   ]
  }
 ],
 "metadata": {
  "kernelspec": {
   "display_name": "Python 3",
   "language": "python",
   "name": "python3"
  },
  "language_info": {
   "codemirror_mode": {
    "name": "ipython",
    "version": 3
   },
   "file_extension": ".py",
   "mimetype": "text/x-python",
   "name": "python",
   "nbconvert_exporter": "python",
   "pygments_lexer": "ipython3",
   "version": "3.13.2"
  }
 },
 "nbformat": 4,
 "nbformat_minor": 5
}
